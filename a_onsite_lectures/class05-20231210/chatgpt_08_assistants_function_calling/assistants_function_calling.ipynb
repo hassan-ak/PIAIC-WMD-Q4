{
 "cells": [
  {
   "cell_type": "markdown",
   "metadata": {},
   "source": [
    "# Assistants API - Function Calling\n",
    "\n",
    "An assistant is a purpose-built AI that has specific instructions, leverages extra knowledge, and can call models and tools to perform tasks.\n",
    "\n",
    "https://platform.openai.com/docs/assistants/tools/function-calling\n",
    "\n",
    "https://cookbook.openai.com/examples/assistants_api_overview_python\n",
    "\n",
    "https://dev.to/esponges/build-the-new-openai-assistant-with-function-calling-52f5 \n",
    "\n",
    "https://community.openai.com/t/function-calling-with-assistants-api/488259/2 \n",
    "\n",
    "https://community.openai.com/t/function-calling-with-assistants-api/488259 \n",
    "\n",
    "https://dev.to/airtai/function-calling-and-code-interpretation-with-openais-assistant-api-a-quick-and-simple-tutorial-5ce5\n",
    "\n",
    "https://cobusgreyling.medium.com/what-are-openai-assistant-function-tools-exactly-06ef8e39b7bd\n",
    "\n",
    "Watch:\n",
    "\n",
    "https://www.youtube.com/watch?v=BV-_5_r46kE&t=0s\n",
    "\n",
    "https://www.youtube.com/watch?v=SaJxbuKehpc \n"
   ]
  },
  {
   "cell_type": "code",
   "execution_count": 1,
   "metadata": {},
   "outputs": [],
   "source": [
    "from openai import OpenAI\n",
    "import json\n",
    "from dotenv import load_dotenv, find_dotenv\n",
    "\n",
    "_: bool = load_dotenv(find_dotenv())  # read local .env file"
   ]
  },
  {
   "cell_type": "code",
   "execution_count": 2,
   "metadata": {},
   "outputs": [],
   "source": [
    "client: OpenAI = OpenAI()"
   ]
  },
  {
   "cell_type": "markdown",
   "metadata": {},
   "source": [
    "### Function calling\n",
    "\n",
    "Similar to the Chat Completions API, the Assistants API supports function calling. Function calling allows you to describe functions to the Assistants and have it intelligently return the functions that need to be called along with their arguments. The Assistants API will pause execution during a Run when it invokes functions, and you can supply the results of the function call back to continue the Run execution.\n",
    "\n"
   ]
  },
  {
   "cell_type": "markdown",
   "metadata": {},
   "source": [
    "### Step 0: Define functions\n",
    "First, define your functions:"
   ]
  },
  {
   "cell_type": "code",
   "execution_count": 3,
   "metadata": {},
   "outputs": [],
   "source": [
    "# Example dummy function hard coded to return the same weather\n",
    "# In production, this could be your backend API or an external API\n",
    "def getCurrentWeather(location: str, unit: str = \"fahrenheit\") -> str | dict | None:\n",
    "    \"\"\"Get the current weather in a given location\"\"\"\n",
    "    if \"tokyo\" in location.lower():\n",
    "        return json.dumps({\"location\": \"Tokyo\", \"temperature\": \"10\", \"unit\": \"celsius\"})\n",
    "    elif \"los angeles\" in location.lower():\n",
    "        return json.dumps(\n",
    "            {\"location\": \"San Francisco\", \"temperature\": \"72\", \"unit\": \"fahrenheit\"}\n",
    "        )\n",
    "    elif \"paris\" in location.lower():\n",
    "        return json.dumps({\"location\": \"Paris\", \"temperature\": \"22\", \"unit\": \"celsius\"})\n",
    "    else:\n",
    "        return json.dumps({\"location\": location, \"temperature\": \"unknown\"})\n",
    "\n",
    "\n",
    "def getNickname(location: str) -> str:\n",
    "    \"\"\"Get the nickname of a city\"\"\"\n",
    "    if \"tokyo\" in location.lower():\n",
    "        return \"tk\"\n",
    "    elif \"los angeles\" in location.lower():\n",
    "        return \"la\"\n",
    "    elif \"paris\" in location.lower():\n",
    "        return \"py\"\n",
    "    else:\n",
    "        return location"
   ]
  },
  {
   "cell_type": "markdown",
   "metadata": {},
   "source": [
    "### Step 1: Create an Assistant and register/report your functions"
   ]
  },
  {
   "cell_type": "code",
   "execution_count": 4,
   "metadata": {},
   "outputs": [],
   "source": [
    "import json\n",
    "\n",
    "\n",
    "def show_json(message, obj):\n",
    "    display(message, json.loads(obj.model_dump_json()))"
   ]
  },
  {
   "cell_type": "code",
   "execution_count": 5,
   "metadata": {},
   "outputs": [],
   "source": [
    "from openai.types.beta import Assistant\n",
    "\n",
    "assistant: Assistant = client.beta.assistants.create(\n",
    "    instructions=\"You are a weather bot. Use the provided functions to answer questions.\",\n",
    "    model=\"gpt-3.5-turbo-1106\",\n",
    "    tools=[\n",
    "        {\n",
    "            \"type\": \"function\",\n",
    "            \"function\": {\n",
    "                \"name\": \"getCurrentWeather\",\n",
    "                \"description\": \"Get the weather in location\",\n",
    "                \"parameters\": {\n",
    "                    \"type\": \"object\",\n",
    "                    \"properties\": {\n",
    "                        \"location\": {\n",
    "                            \"type\": \"string\",\n",
    "                            \"description\": \"The city and state e.g. San Francisco, CA\",\n",
    "                        },\n",
    "                        \"unit\": {\"type\": \"string\", \"enum\": [\"c\", \"f\"]},\n",
    "                    },\n",
    "                    \"required\": [\"location\"],\n",
    "                },\n",
    "            },\n",
    "        },\n",
    "        {\n",
    "            \"type\": \"function\",\n",
    "            \"function\": {\n",
    "                \"name\": \"getNickname\",\n",
    "                \"description\": \"Get the nickname of a city\",\n",
    "                \"parameters\": {\n",
    "                    \"type\": \"object\",\n",
    "                    \"properties\": {\n",
    "                        \"location\": {\n",
    "                            \"type\": \"string\",\n",
    "                            \"description\": \"The city and state e.g. San Francisco, CA\",\n",
    "                        },\n",
    "                    },\n",
    "                    \"required\": [\"location\"],\n",
    "                },\n",
    "            },\n",
    "        },\n",
    "    ],\n",
    ")"
   ]
  },
  {
   "cell_type": "markdown",
   "metadata": {},
   "source": [
    "### Step 2: Create a Thread"
   ]
  },
  {
   "cell_type": "code",
   "execution_count": 6,
   "metadata": {},
   "outputs": [
    {
     "name": "stdout",
     "output_type": "stream",
     "text": [
      "Thread(id='thread_hAmcvjapaHzTk6Fzp8WGIPIn', created_at=1702766164, metadata={}, object='thread')\n"
     ]
    }
   ],
   "source": [
    "from openai.types.beta.thread import Thread\n",
    "\n",
    "thread: Thread = client.beta.threads.create()\n",
    "\n",
    "print(thread)"
   ]
  },
  {
   "cell_type": "markdown",
   "metadata": {},
   "source": [
    "### Step 3: Add a Message to a Thread"
   ]
  },
  {
   "cell_type": "code",
   "execution_count": 7,
   "metadata": {},
   "outputs": [],
   "source": [
    "from openai.types.beta.threads.thread_message import ThreadMessage\n",
    "\n",
    "# First Request\n",
    "message = client.beta.threads.messages.create(\n",
    "    thread_id=thread.id, role=\"user\", content=\"How is the weather in Los Angles?\"\n",
    ")"
   ]
  },
  {
   "cell_type": "code",
   "execution_count": 8,
   "metadata": {},
   "outputs": [
    {
     "data": {
      "text/plain": [
       "{'id': 'msg_Y8z9z8VdD4hRPdwWjTCLJmEH',\n",
       " 'assistant_id': None,\n",
       " 'content': [MessageContentText(text=Text(annotations=[], value='How is the weather in Los Angles?'), type='text')],\n",
       " 'created_at': 1702766169,\n",
       " 'file_ids': [],\n",
       " 'metadata': {},\n",
       " 'object': 'thread.message',\n",
       " 'role': 'user',\n",
       " 'run_id': None,\n",
       " 'thread_id': 'thread_hAmcvjapaHzTk6Fzp8WGIPIn'}"
      ]
     },
     "execution_count": 8,
     "metadata": {},
     "output_type": "execute_result"
    }
   ],
   "source": [
    "dict(message)"
   ]
  },
  {
   "cell_type": "markdown",
   "metadata": {},
   "source": [
    "### Step 4: Run the Assistant"
   ]
  },
  {
   "cell_type": "code",
   "execution_count": 9,
   "metadata": {},
   "outputs": [],
   "source": [
    "from openai.types.beta.threads.run import Run\n",
    "\n",
    "run: Run = client.beta.threads.runs.create(\n",
    "    thread_id=thread.id, assistant_id=assistant.id\n",
    ")"
   ]
  },
  {
   "cell_type": "code",
   "execution_count": 10,
   "metadata": {},
   "outputs": [
    {
     "data": {
      "text/plain": [
       "{'id': 'run_xqUGr840nILL24ZA3fftV3Ql',\n",
       " 'assistant_id': 'asst_9fIJoJRBoCPoIoDOBCiLIg72',\n",
       " 'cancelled_at': None,\n",
       " 'completed_at': None,\n",
       " 'created_at': 1702766195,\n",
       " 'expires_at': 1702766795,\n",
       " 'failed_at': None,\n",
       " 'file_ids': [],\n",
       " 'instructions': 'You are a weather bot. Use the provided functions to answer questions.',\n",
       " 'last_error': None,\n",
       " 'metadata': {},\n",
       " 'model': 'gpt-3.5-turbo-1106',\n",
       " 'object': 'thread.run',\n",
       " 'required_action': None,\n",
       " 'started_at': None,\n",
       " 'status': 'queued',\n",
       " 'thread_id': 'thread_hAmcvjapaHzTk6Fzp8WGIPIn',\n",
       " 'tools': [ToolAssistantToolsFunction(function=FunctionDefinition(name='getCurrentWeather', description='Get the weather in location', parameters={'type': 'object', 'properties': {'location': {'type': 'string', 'description': 'The city and state e.g. San Francisco, CA'}, 'unit': {'type': 'string', 'enum': ['c', 'f']}}, 'required': ['location']}), type='function'),\n",
       "  ToolAssistantToolsFunction(function=FunctionDefinition(name='getNickname', description='Get the nickname of a city', parameters={'type': 'object', 'properties': {'location': {'type': 'string', 'description': 'The city and state e.g. San Francisco, CA'}}, 'required': ['location']}), type='function')]}"
      ]
     },
     "execution_count": 10,
     "metadata": {},
     "output_type": "execute_result"
    }
   ],
   "source": [
    "dict(run)"
   ]
  },
  {
   "cell_type": "markdown",
   "metadata": {},
   "source": [
    "## Run Life Cycle\n",
    "\n",
    "![Alt text](diagram.png \"run life cycle\")\n",
    "\n",
    "### STATUS\tDEFINITION\n",
    "\n",
    "https://platform.openai.com/docs/assistants/how-it-works/runs-and-run-steps\n",
    "\n",
    "queued:\t\n",
    "\n",
    "When Runs are first created or when you complete the required_action, they are moved to a queued status. They should almost immediately move to in_progress.\n",
    "\n",
    "in_progress:\t\n",
    "\n",
    "While in_progress, the Assistant uses the model and tools to perform steps. You can view progress being made by the Run by examining the Run Steps.\n",
    "\n",
    "completed:\t\n",
    "\n",
    "The Run successfully completed! You can now view all Messages the Assistant added to the Thread, and all the steps the Run took. You can also continue the conversation by adding more user Messages to the Thread and creating another Run.\n",
    "\n",
    "requires_action:\t\n",
    "\n",
    "When using the Function calling tool, the Run will move to a required_action state once the model determines the names and arguments of the functions to be called. You must then run those functions and submit the outputs before the run proceeds. If the outputs are not provided before the expires_at timestamp passes (roughly 10 mins past creation), the run will move to an expired status.\n",
    "\n",
    "expired:\n",
    "\n",
    "This happens when the function calling outputs were not submitted before expires_at and the run expires. Additionally, if the runs take too long to execute and go beyond the time stated in expires_at, our systems will expire the run.\n",
    "\n",
    "cancelling:\t\n",
    "\n",
    "You can attempt to cancel an in_progress run using the Cancel Run endpoint. Once the attempt to cancel succeeds, status of the Run moves to cancelled. Cancellation is attempted but not guaranteed.\n",
    "cancelled\tRun was successfully cancelled.\n",
    "\n",
    "failed:\t\n",
    "\n",
    "You can view the reason for the failure by looking at the last_error object in the Run. The timestamp for the failure will be recorded under failed_at.\n",
    "\n",
    "### Polling for updates\n",
    "\n",
    "In order to keep the status of your run up to date, you will have to periodically retrieve the Run object. You can check the status of the run each time you retrieve the object to determine what your application should do next. We plan to add support for streaming to make this simpler in the near future.\n",
    "\n",
    "### Thread locks\n",
    "\n",
    "When a Run is in_progress and not in a terminal state, the Thread is locked. This means that:\n",
    "\n",
    "New Messages cannot be added to the Thread.\n",
    "\n",
    "New Runs cannot be created on the Thread.\n",
    "\n",
    "## Run steps\n",
    "\n",
    "![Alt text](diagram-2.png \"run steps\")\n",
    "\n",
    "Most of the interesting detail in the Run Step object lives in the step_details field. There can be two types of step details:\n",
    "\n",
    "1. message_creation: This Run Step is created when the Assistant creates a Message on the Thread.\n",
    "2. tool_calls: This Run Step is created when the Assistant calls a tool. Details around this are covered in the relevant sections of the Tools guide.\n"
   ]
  },
  {
   "cell_type": "code",
   "execution_count": 11,
   "metadata": {},
   "outputs": [],
   "source": [
    "available_functions = {\n",
    "    \"getCurrentWeather\": getCurrentWeather,\n",
    "    \"getNickname\": getNickname,\n",
    "}"
   ]
  },
  {
   "cell_type": "code",
   "execution_count": 12,
   "metadata": {},
   "outputs": [
    {
     "data": {
      "text/plain": [
       "'thread_hAmcvjapaHzTk6Fzp8WGIPIn'"
      ]
     },
     "execution_count": 12,
     "metadata": {},
     "output_type": "execute_result"
    }
   ],
   "source": [
    "thread.id"
   ]
  },
  {
   "cell_type": "markdown",
   "metadata": {},
   "source": [
    "### Step 5: Polling for Updates and Calling Functions"
   ]
  },
  {
   "cell_type": "code",
   "execution_count": 13,
   "metadata": {},
   "outputs": [
    {
     "name": "stdout",
     "output_type": "stream",
     "text": [
      "\n",
      "***\n",
      "***\n",
      "***\n",
      "\n"
     ]
    },
    {
     "name": "stderr",
     "output_type": "stream",
     "text": [
      "/home/hassan/anaconda3/envs/genAI/lib/python3.11/site-packages/pydantic/main.py:352: UserWarning: Pydantic serializer warnings:\n",
      "  Expected `Union[MessageCreationStepDetails, ToolCallsStepDetails]` but got `MessageCreationStepDetails` - serialized value may not be as expected\n",
      "  return self.__pydantic_serializer__.to_json(\n"
     ]
    },
    {
     "data": {
      "text/plain": [
       "'Run Steps:'"
      ]
     },
     "metadata": {},
     "output_type": "display_data"
    },
    {
     "data": {
      "text/plain": [
       "{'data': [{'id': 'step_FZhRDNtQdbrOr0pdHilSGFQ2',\n",
       "   'assistant_id': 'asst_9fIJoJRBoCPoIoDOBCiLIg72',\n",
       "   'cancelled_at': None,\n",
       "   'completed_at': None,\n",
       "   'created_at': 1702766196,\n",
       "   'expired_at': None,\n",
       "   'failed_at': None,\n",
       "   'last_error': None,\n",
       "   'metadata': None,\n",
       "   'object': 'thread.run.step',\n",
       "   'run_id': 'run_xqUGr840nILL24ZA3fftV3Ql',\n",
       "   'status': 'in_progress',\n",
       "   'step_details': {'message_creation': None,\n",
       "    'type': 'tool_calls',\n",
       "    'tool_calls': [{'id': 'call_19LiTYmoJT6PtJ70CQygiKTW',\n",
       "      'type': 'function',\n",
       "      'function': {'name': 'getCurrentWeather',\n",
       "       'arguments': '{\"location\": \"Los Angeles, CA\", \"unit\": \"c\"}'}},\n",
       "     {'id': 'call_rxpk2nhUHe9cqNPf292sImKq',\n",
       "      'type': 'function',\n",
       "      'function': {'name': 'getNickname',\n",
       "       'arguments': '{\"location\": \"Los Angeles, CA\"}'}}]},\n",
       "   'thread_id': 'thread_hAmcvjapaHzTk6Fzp8WGIPIn',\n",
       "   'type': 'tool_calls',\n",
       "   'expires_at': 1702766795}],\n",
       " 'object': 'list',\n",
       " 'first_id': 'step_FZhRDNtQdbrOr0pdHilSGFQ2',\n",
       " 'last_id': 'step_FZhRDNtQdbrOr0pdHilSGFQ2',\n",
       " 'has_more': False}"
      ]
     },
     "metadata": {},
     "output_type": "display_data"
    },
    {
     "name": "stdout",
     "output_type": "stream",
     "text": [
      "\n",
      "***\n",
      "***\n",
      "***\n",
      "\n",
      "requires_action\n",
      "\n",
      "***\n",
      "***\n",
      "***\n",
      "\n",
      "requires_action\n",
      "\n",
      "***\n",
      "***\n",
      "***\n",
      "\n",
      "Status:  requires_action\n",
      "\n",
      "***\n",
      "***\n",
      "***\n",
      "\n"
     ]
    },
    {
     "data": {
      "text/plain": [
       "'submit_tool_outputs'"
      ]
     },
     "metadata": {},
     "output_type": "display_data"
    },
    {
     "data": {
      "text/plain": [
       "{'submit_tool_outputs': {'tool_calls': [{'id': 'call_19LiTYmoJT6PtJ70CQygiKTW',\n",
       "    'function': {'arguments': '{\"location\": \"Los Angeles, CA\", \"unit\": \"c\"}',\n",
       "     'name': 'getCurrentWeather'},\n",
       "    'type': 'function'},\n",
       "   {'id': 'call_rxpk2nhUHe9cqNPf292sImKq',\n",
       "    'function': {'arguments': '{\"location\": \"Los Angeles, CA\"}',\n",
       "     'name': 'getNickname'},\n",
       "    'type': 'function'}]},\n",
       " 'type': 'submit_tool_outputs'}"
      ]
     },
     "metadata": {},
     "output_type": "display_data"
    },
    {
     "name": "stdout",
     "output_type": "stream",
     "text": [
      "\n",
      "***\n",
      "***\n",
      "***\n",
      "\n",
      "toolCalls present:\n",
      "\n",
      "***\n",
      "***\n",
      "***\n",
      "\n",
      "<function getCurrentWeather at 0x7f8364b9b9c0> True\n",
      "\n",
      "***\n",
      "***\n",
      "***\n",
      "\n",
      "<function getNickname at 0x7f8364b9b880> False\n",
      "\n",
      "***\n",
      "***\n",
      "***\n",
      "\n",
      "[{'tool_call_id': 'call_19LiTYmoJT6PtJ70CQygiKTW', 'output': '{\"location\": \"San Francisco\", \"temperature\": \"72\", \"unit\": \"fahrenheit\"}'}, {'tool_call_id': 'call_rxpk2nhUHe9cqNPf292sImKq', 'output': 'la'}]\n",
      "\n",
      "***\n",
      "***\n",
      "***\n",
      "\n"
     ]
    },
    {
     "data": {
      "text/plain": [
       "'Run Steps:'"
      ]
     },
     "metadata": {},
     "output_type": "display_data"
    },
    {
     "data": {
      "text/plain": [
       "{'data': [{'id': 'step_jn50s8UJ3MoiABL41XpRGp0q',\n",
       "   'assistant_id': 'asst_9fIJoJRBoCPoIoDOBCiLIg72',\n",
       "   'cancelled_at': None,\n",
       "   'completed_at': 1702766449,\n",
       "   'created_at': 1702766449,\n",
       "   'expired_at': None,\n",
       "   'failed_at': None,\n",
       "   'last_error': None,\n",
       "   'metadata': None,\n",
       "   'object': 'thread.run.step',\n",
       "   'run_id': 'run_xqUGr840nILL24ZA3fftV3Ql',\n",
       "   'status': 'completed',\n",
       "   'step_details': {'message_creation': {'message_id': 'msg_t1UOM0pfaG8ORk6qPlPQKJ2g'},\n",
       "    'type': 'message_creation'},\n",
       "   'thread_id': 'thread_hAmcvjapaHzTk6Fzp8WGIPIn',\n",
       "   'type': 'message_creation',\n",
       "   'expires_at': None},\n",
       "  {'id': 'step_FZhRDNtQdbrOr0pdHilSGFQ2',\n",
       "   'assistant_id': 'asst_9fIJoJRBoCPoIoDOBCiLIg72',\n",
       "   'cancelled_at': None,\n",
       "   'completed_at': 1702766448,\n",
       "   'created_at': 1702766196,\n",
       "   'expired_at': None,\n",
       "   'failed_at': None,\n",
       "   'last_error': None,\n",
       "   'metadata': None,\n",
       "   'object': 'thread.run.step',\n",
       "   'run_id': 'run_xqUGr840nILL24ZA3fftV3Ql',\n",
       "   'status': 'completed',\n",
       "   'step_details': {'tool_calls': [{'id': 'call_19LiTYmoJT6PtJ70CQygiKTW',\n",
       "      'function': {'arguments': '{\"location\": \"Los Angeles, CA\", \"unit\": \"c\"}',\n",
       "       'name': 'getCurrentWeather',\n",
       "       'output': '{\"location\": \"San Francisco\", \"temperature\": \"72\", \"unit\": \"fahrenheit\"}'},\n",
       "      'type': 'function'},\n",
       "     {'id': 'call_rxpk2nhUHe9cqNPf292sImKq',\n",
       "      'function': {'arguments': '{\"location\": \"Los Angeles, CA\"}',\n",
       "       'name': 'getNickname',\n",
       "       'output': 'la'},\n",
       "      'type': 'function'}],\n",
       "    'type': 'tool_calls'},\n",
       "   'thread_id': 'thread_hAmcvjapaHzTk6Fzp8WGIPIn',\n",
       "   'type': 'tool_calls',\n",
       "   'expires_at': None}],\n",
       " 'object': 'list',\n",
       " 'first_id': 'step_jn50s8UJ3MoiABL41XpRGp0q',\n",
       " 'last_id': 'step_FZhRDNtQdbrOr0pdHilSGFQ2',\n",
       " 'has_more': False}"
      ]
     },
     "metadata": {},
     "output_type": "display_data"
    },
    {
     "name": "stdout",
     "output_type": "stream",
     "text": [
      "\n",
      "***\n",
      "***\n",
      "***\n",
      "\n",
      "in_progress\n",
      "\n",
      "***\n",
      "***\n",
      "***\n",
      "\n",
      "Run is queued. Waiting...\n",
      "\n",
      "***\n",
      "***\n",
      "***\n",
      "\n"
     ]
    },
    {
     "data": {
      "text/plain": [
       "'Run Steps:'"
      ]
     },
     "metadata": {},
     "output_type": "display_data"
    },
    {
     "data": {
      "text/plain": [
       "{'data': [{'id': 'step_jn50s8UJ3MoiABL41XpRGp0q',\n",
       "   'assistant_id': 'asst_9fIJoJRBoCPoIoDOBCiLIg72',\n",
       "   'cancelled_at': None,\n",
       "   'completed_at': 1702766449,\n",
       "   'created_at': 1702766449,\n",
       "   'expired_at': None,\n",
       "   'failed_at': None,\n",
       "   'last_error': None,\n",
       "   'metadata': None,\n",
       "   'object': 'thread.run.step',\n",
       "   'run_id': 'run_xqUGr840nILL24ZA3fftV3Ql',\n",
       "   'status': 'completed',\n",
       "   'step_details': {'message_creation': {'message_id': 'msg_t1UOM0pfaG8ORk6qPlPQKJ2g'},\n",
       "    'type': 'message_creation'},\n",
       "   'thread_id': 'thread_hAmcvjapaHzTk6Fzp8WGIPIn',\n",
       "   'type': 'message_creation',\n",
       "   'expires_at': None},\n",
       "  {'id': 'step_FZhRDNtQdbrOr0pdHilSGFQ2',\n",
       "   'assistant_id': 'asst_9fIJoJRBoCPoIoDOBCiLIg72',\n",
       "   'cancelled_at': None,\n",
       "   'completed_at': 1702766448,\n",
       "   'created_at': 1702766196,\n",
       "   'expired_at': None,\n",
       "   'failed_at': None,\n",
       "   'last_error': None,\n",
       "   'metadata': None,\n",
       "   'object': 'thread.run.step',\n",
       "   'run_id': 'run_xqUGr840nILL24ZA3fftV3Ql',\n",
       "   'status': 'completed',\n",
       "   'step_details': {'tool_calls': [{'id': 'call_19LiTYmoJT6PtJ70CQygiKTW',\n",
       "      'function': {'arguments': '{\"location\": \"Los Angeles, CA\", \"unit\": \"c\"}',\n",
       "       'name': 'getCurrentWeather',\n",
       "       'output': '{\"location\": \"San Francisco\", \"temperature\": \"72\", \"unit\": \"fahrenheit\"}'},\n",
       "      'type': 'function'},\n",
       "     {'id': 'call_rxpk2nhUHe9cqNPf292sImKq',\n",
       "      'function': {'arguments': '{\"location\": \"Los Angeles, CA\"}',\n",
       "       'name': 'getNickname',\n",
       "       'output': 'la'},\n",
       "      'type': 'function'}],\n",
       "    'type': 'tool_calls'},\n",
       "   'thread_id': 'thread_hAmcvjapaHzTk6Fzp8WGIPIn',\n",
       "   'type': 'tool_calls',\n",
       "   'expires_at': None}],\n",
       " 'object': 'list',\n",
       " 'first_id': 'step_jn50s8UJ3MoiABL41XpRGp0q',\n",
       " 'last_id': 'step_FZhRDNtQdbrOr0pdHilSGFQ2',\n",
       " 'has_more': False}"
      ]
     },
     "metadata": {},
     "output_type": "display_data"
    },
    {
     "name": "stdout",
     "output_type": "stream",
     "text": [
      "\n",
      "***\n",
      "***\n",
      "***\n",
      "\n",
      "completed\n",
      "\n",
      "***\n",
      "***\n",
      "***\n",
      "\n",
      "completed...........logic\n",
      "\n",
      "***\n",
      "***\n",
      "***\n",
      "\n",
      "Assistant: The current weather in Los Angeles, CA is 72°F. Los Angeles is also known as \"LA\".\n",
      "\n",
      "\n",
      "***\n",
      "***\n",
      "***\n",
      "\n",
      "User: How is the weather in Los Angles?\n",
      "\n"
     ]
    }
   ],
   "source": [
    "import time\n",
    "\n",
    "# Loop until the run completes or requires action\n",
    "while True:\n",
    "    runStatus = client.beta.threads.runs.retrieve(thread_id=thread.id, run_id=run.id)\n",
    "    # Add run steps retrieval here for debuging\n",
    "    run_steps = client.beta.threads.runs.steps.list(thread_id=thread.id, run_id=run.id)\n",
    "    print(\"\\n***\\n***\\n***\\n\")\n",
    "    show_json(\"Run Steps:\", run_steps)\n",
    "    print(\"\\n***\\n***\\n***\\n\")\n",
    "    print(runStatus.status)\n",
    "\n",
    "    # This means run is making a function call\n",
    "    if runStatus.status == \"requires_action\":\n",
    "        print(\"\\n***\\n***\\n***\\n\")\n",
    "        print(runStatus.status)\n",
    "        print(\"\\n***\\n***\\n***\\n\")\n",
    "        print(\"Status: \", \"requires_action\")\n",
    "        print(\"\\n***\\n***\\n***\\n\")\n",
    "        show_json(\"submit_tool_outputs\", runStatus.required_action)\n",
    "        if (\n",
    "            runStatus.required_action.submit_tool_outputs\n",
    "            and runStatus.required_action.submit_tool_outputs.tool_calls\n",
    "        ):\n",
    "            print(\"\\n***\\n***\\n***\\n\")\n",
    "            print(\"toolCalls present:\")\n",
    "            toolCalls = runStatus.required_action.submit_tool_outputs.tool_calls\n",
    "\n",
    "            tool_outputs = []\n",
    "            for toolcall in toolCalls:\n",
    "                function_name = toolcall.function.name\n",
    "                function_args = json.loads(toolcall.function.arguments)\n",
    "\n",
    "                if function_name in available_functions:\n",
    "                    function_to_call = available_functions[function_name]\n",
    "                    print(\"\\n***\\n***\\n***\\n\")\n",
    "                    print(\n",
    "                        function_to_call,\n",
    "                        function_to_call.__name__ == \"getCurrentWeather\",\n",
    "                    )\n",
    "\n",
    "                    if function_to_call.__name__ == \"getCurrentWeather\":\n",
    "                        response = function_to_call(\n",
    "                            location=function_args.get(\"location\"),\n",
    "                            unit=function_args.get(\"unit\"),\n",
    "                        )\n",
    "\n",
    "                        tool_outputs.append(\n",
    "                            {\"tool_call_id\": toolcall.id, \"output\": response}\n",
    "                        )\n",
    "\n",
    "                    elif function_to_call.__name__ == \"getNickname\":\n",
    "                        response = function_to_call(\n",
    "                            location=function_args.get(\"location\")\n",
    "                        )\n",
    "                        tool_outputs.append(\n",
    "                            {\n",
    "                                \"tool_call_id\": toolcall.id,\n",
    "                                \"output\": response,\n",
    "                            }\n",
    "                        )\n",
    "            print(\"\\n***\\n***\\n***\\n\")\n",
    "            print(tool_outputs)\n",
    "            # Submit tool outputs and update the run\n",
    "            client.beta.threads.runs.submit_tool_outputs(\n",
    "                thread_id=thread.id, run_id=run.id, tool_outputs=tool_outputs\n",
    "            )\n",
    "\n",
    "    elif runStatus.status == \"completed\":\n",
    "        # List the messages to get the response\n",
    "        print(\"\\n***\\n***\\n***\\n\")\n",
    "        print(\"completed...........logic\")\n",
    "        messages: list[ThreadMessage] = client.beta.threads.messages.list(\n",
    "            thread_id=thread.id\n",
    "        )\n",
    "        for message in messages.data:\n",
    "            role_label = \"User\" if message.role == \"user\" else \"Assistant\"\n",
    "            message_content = message.content[0].text.value\n",
    "            print(\"\\n***\\n***\\n***\\n\")\n",
    "            print(f\"{role_label}: {message_content}\\n\")\n",
    "        break  # Exit the loop after processing the completed run\n",
    "\n",
    "    elif run.status == \"failed\":\n",
    "        print(\"\\n***\\n***\\n***\\n\")\n",
    "        print(\"Run failed.\")\n",
    "        break\n",
    "\n",
    "    elif run.status in [\"in_progress\", \"queued\"]:\n",
    "        print(\"\\n***\\n***\\n***\\n\")\n",
    "        print(f\"Run is {run.status}. Waiting...\")\n",
    "        time.sleep(5)  # Wait for 5 seconds before checking again\n",
    "\n",
    "    else:\n",
    "        print(\"\\n***\\n***\\n***\\n\")\n",
    "        print(f\"Unexpected status: {run.status}\")\n",
    "        break"
   ]
  }
 ],
 "metadata": {
  "kernelspec": {
   "display_name": "base",
   "language": "python",
   "name": "python3"
  },
  "language_info": {
   "codemirror_mode": {
    "name": "ipython",
    "version": 3
   },
   "file_extension": ".py",
   "mimetype": "text/x-python",
   "name": "python",
   "nbconvert_exporter": "python",
   "pygments_lexer": "ipython3",
   "version": "3.11.5"
  }
 },
 "nbformat": 4,
 "nbformat_minor": 2
}
