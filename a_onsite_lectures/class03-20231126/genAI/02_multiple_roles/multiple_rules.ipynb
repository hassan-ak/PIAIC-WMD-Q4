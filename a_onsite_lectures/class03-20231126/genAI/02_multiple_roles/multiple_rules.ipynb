{
 "cells": [
  {
   "cell_type": "markdown",
   "metadata": {},
   "source": [
    "# Making an API request"
   ]
  },
  {
   "cell_type": "code",
   "execution_count": 1,
   "metadata": {},
   "outputs": [],
   "source": [
    "from openai import OpenAI\n",
    "from dotenv import load_dotenv, find_dotenv\n",
    "\n",
    "_: bool = load_dotenv(find_dotenv())  # read local .env file\n",
    "\n",
    "client: OpenAI = OpenAI()"
   ]
  },
  {
   "cell_type": "code",
   "execution_count": 3,
   "metadata": {},
   "outputs": [
    {
     "name": "stdout",
     "output_type": "stream",
     "text": [
      "ایک شہر سردی میں، برف کا پہاڑ\n",
      "جلتا ہے بجلی کا روپ، سب ہے خوشحال\n",
      "\n",
      "لیکن اگر ہوجائے کسی تناؤ کا سامنا\n",
      "تو برقی نظام کا ہے یہ ایک اہم مُعاملہ\n",
      "\n",
      "اینا تو موصول ہے کردار گرمی کا\n",
      "لیکن برقی چیخیں بھی ہوتی ہیں کبھی کبھی\n",
      "\n",
      "تو اِس کے لئے ہوتی ہے انسولیشن کوآرڈینیشن\n",
      "تاکہ برقی نظام بنے محفوظ، ہر قسم کی دہشت سے آزاد\n",
      "\n",
      "ابگر گئیں برقی تناؤ، تو نہ ہوجائے برق کا رخ \n",
      "کیونکہ انسولیشن کوآرڈینیشن نے ہمیشہ کیا ہے ہمارا ساتھ\n"
     ]
    }
   ],
   "source": [
    "from openai.types.chat.chat_completion import ChatCompletion\n",
    "\n",
    "\n",
    "def chat_completion() -> str:\n",
    "    completion: ChatCompletion = client.chat.completions.create(\n",
    "        model=\"gpt-3.5-turbo-1106\",\n",
    "        messages=[\n",
    "            {\n",
    "                \"role\": \"system\",\n",
    "                \"content\": \"You are a poetic assistant, skilled in explaining complex programming concepts with creative flair in urdu.\",\n",
    "            },\n",
    "            {\n",
    "                \"role\": \"user\",\n",
    "                \"content\": \"Compose a poem that explains the concept of insulation coordination for power systems.\",\n",
    "            },\n",
    "        ],\n",
    "    )\n",
    "\n",
    "    return completion.choices[0].message.content\n",
    "\n",
    "\n",
    "print(chat_completion())"
   ]
  }
 ],
 "metadata": {
  "kernelspec": {
   "display_name": "py311",
   "language": "python",
   "name": "python3"
  },
  "language_info": {
   "codemirror_mode": {
    "name": "ipython",
    "version": 3
   },
   "file_extension": ".py",
   "mimetype": "text/x-python",
   "name": "python",
   "nbconvert_exporter": "python",
   "pygments_lexer": "ipython3",
   "version": "3.11.5"
  },
  "orig_nbformat": 4
 },
 "nbformat": 4,
 "nbformat_minor": 2
}
