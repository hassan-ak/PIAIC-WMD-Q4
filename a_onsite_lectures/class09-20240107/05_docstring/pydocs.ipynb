{
 "cells": [
  {
   "cell_type": "markdown",
   "metadata": {},
   "source": [
    "---"
   ]
  },
  {
   "cell_type": "code",
   "execution_count": 3,
   "metadata": {},
   "outputs": [
    {
     "name": "stdout",
     "output_type": "stream",
     "text": [
      "Prints the values to a stream, or to sys.stdout by default.\n",
      "\n",
      "  sep\n",
      "    string inserted between values, default a space.\n",
      "  end\n",
      "    string appended after the last value, default a newline.\n",
      "  file\n",
      "    a file-like object (stream); defaults to the current sys.stdout.\n",
      "  flush\n",
      "    whether to forcibly flush the stream.\n"
     ]
    }
   ],
   "source": [
    "print(print.__doc__)"
   ]
  },
  {
   "cell_type": "code",
   "execution_count": 4,
   "metadata": {},
   "outputs": [
    {
     "name": "stdout",
     "output_type": "stream",
     "text": [
      "Help on built-in function print in module builtins:\n",
      "\n",
      "print(*args, sep=' ', end='\\n', file=None, flush=False)\n",
      "    Prints the values to a stream, or to sys.stdout by default.\n",
      "    \n",
      "    sep\n",
      "      string inserted between values, default a space.\n",
      "    end\n",
      "      string appended after the last value, default a newline.\n",
      "    file\n",
      "      a file-like object (stream); defaults to the current sys.stdout.\n",
      "    flush\n",
      "      whether to forcibly flush the stream.\n",
      "\n"
     ]
    }
   ],
   "source": [
    "help(print)"
   ]
  },
  {
   "cell_type": "code",
   "execution_count": 5,
   "metadata": {},
   "outputs": [
    {
     "name": "stdout",
     "output_type": "stream",
     "text": [
      "\u001b[0;31mSignature:\u001b[0m \u001b[0mprint\u001b[0m\u001b[0;34m(\u001b[0m\u001b[0;34m*\u001b[0m\u001b[0margs\u001b[0m\u001b[0;34m,\u001b[0m \u001b[0msep\u001b[0m\u001b[0;34m=\u001b[0m\u001b[0;34m' '\u001b[0m\u001b[0;34m,\u001b[0m \u001b[0mend\u001b[0m\u001b[0;34m=\u001b[0m\u001b[0;34m'\\n'\u001b[0m\u001b[0;34m,\u001b[0m \u001b[0mfile\u001b[0m\u001b[0;34m=\u001b[0m\u001b[0;32mNone\u001b[0m\u001b[0;34m,\u001b[0m \u001b[0mflush\u001b[0m\u001b[0;34m=\u001b[0m\u001b[0;32mFalse\u001b[0m\u001b[0;34m)\u001b[0m\u001b[0;34m\u001b[0m\u001b[0;34m\u001b[0m\u001b[0m\n",
      "\u001b[0;31mDocstring:\u001b[0m\n",
      "Prints the values to a stream, or to sys.stdout by default.\n",
      "\n",
      "sep\n",
      "  string inserted between values, default a space.\n",
      "end\n",
      "  string appended after the last value, default a newline.\n",
      "file\n",
      "  a file-like object (stream); defaults to the current sys.stdout.\n",
      "flush\n",
      "  whether to forcibly flush the stream.\n",
      "\u001b[0;31mType:\u001b[0m      builtin_function_or_method"
     ]
    }
   ],
   "source": [
    "print?"
   ]
  },
  {
   "cell_type": "markdown",
   "metadata": {},
   "source": [
    "---"
   ]
  },
  {
   "cell_type": "code",
   "execution_count": 7,
   "metadata": {},
   "outputs": [],
   "source": [
    "def add_numbers(num1: int, num2: int) -> int:\n",
    "    \"\"\"\n",
    "    Adds two numbers and returns the result.\n",
    "\n",
    "    Parameters:\n",
    "    - num1 (int): The first integer operand for addition.\n",
    "    - num2 (int): The second integer operand for addition.\n",
    "\n",
    "    Returns:\n",
    "    int: The sum of num1 and num2.\n",
    "\n",
    "    Example:\n",
    "    >>> add_numbers(3, 5)\n",
    "    8\n",
    "    >>> add_numbers(-1, 10)\n",
    "    9\n",
    "    >>> add_numbers(0, 0)\n",
    "    0\n",
    "\n",
    "    Raises:\n",
    "    - TypeError: If either num1 or num2 is not an integer.\n",
    "\n",
    "    This function takes two integers as input, adds them together, and returns the result.\n",
    "    \"\"\"\n",
    "\n",
    "    return num1 + num2"
   ]
  },
  {
   "cell_type": "code",
   "execution_count": 9,
   "metadata": {},
   "outputs": [
    {
     "data": {
      "text/plain": [
       "3"
      ]
     },
     "execution_count": 9,
     "metadata": {},
     "output_type": "execute_result"
    }
   ],
   "source": [
    "add_numbers(1, 2)"
   ]
  },
  {
   "cell_type": "code",
   "execution_count": 10,
   "metadata": {},
   "outputs": [
    {
     "name": "stdout",
     "output_type": "stream",
     "text": [
      "\n",
      "    Adds two numbers and returns the result.\n",
      "\n",
      "    Parameters:\n",
      "    - num1 (int): The first integer operand for addition.\n",
      "    - num2 (int): The second integer operand for addition.\n",
      "\n",
      "    Returns:\n",
      "    int: The sum of num1 and num2.\n",
      "\n",
      "    Example:\n",
      "    >>> add_numbers(3, 5)\n",
      "    8\n",
      "    >>> add_numbers(-1, 10)\n",
      "    9\n",
      "    >>> add_numbers(0, 0)\n",
      "    0\n",
      "\n",
      "    Raises:\n",
      "    - TypeError: If either num1 or num2 is not an integer.\n",
      "\n",
      "    This function takes two integers as input, adds them together, and returns the result.\n",
      "    \n"
     ]
    }
   ],
   "source": [
    "print(add_numbers.__doc__)"
   ]
  },
  {
   "cell_type": "code",
   "execution_count": 11,
   "metadata": {},
   "outputs": [
    {
     "name": "stdout",
     "output_type": "stream",
     "text": [
      "\u001b[0;31mSignature:\u001b[0m \u001b[0madd_numbers\u001b[0m\u001b[0;34m(\u001b[0m\u001b[0mnum1\u001b[0m\u001b[0;34m:\u001b[0m \u001b[0mint\u001b[0m\u001b[0;34m,\u001b[0m \u001b[0mnum2\u001b[0m\u001b[0;34m:\u001b[0m \u001b[0mint\u001b[0m\u001b[0;34m)\u001b[0m \u001b[0;34m->\u001b[0m \u001b[0mint\u001b[0m\u001b[0;34m\u001b[0m\u001b[0;34m\u001b[0m\u001b[0m\n",
      "\u001b[0;31mDocstring:\u001b[0m\n",
      "Adds two numbers and returns the result.\n",
      "\n",
      "Parameters:\n",
      "- num1 (int): The first integer operand for addition.\n",
      "- num2 (int): The second integer operand for addition.\n",
      "\n",
      "Returns:\n",
      "int: The sum of num1 and num2.\n",
      "\n",
      "Example:\n",
      ">>> add_numbers(3, 5)\n",
      "8\n",
      ">>> add_numbers(-1, 10)\n",
      "9\n",
      ">>> add_numbers(0, 0)\n",
      "0\n",
      "\n",
      "Raises:\n",
      "- TypeError: If either num1 or num2 is not an integer.\n",
      "\n",
      "This function takes two integers as input, adds them together, and returns the result.\n",
      "\u001b[0;31mFile:\u001b[0m      /tmp/ipykernel_28376/1411109151.py\n",
      "\u001b[0;31mType:\u001b[0m      function"
     ]
    }
   ],
   "source": [
    "add_numbers?"
   ]
  },
  {
   "cell_type": "code",
   "execution_count": 20,
   "metadata": {},
   "outputs": [
    {
     "name": "stdout",
     "output_type": "stream",
     "text": [
      "Help on function add_numbers in module __main__:\n",
      "\n",
      "add_numbers(num1: int, num2: int) -> int\n",
      "    Adds two numbers and returns the result.\n",
      "    \n",
      "    Parameters:\n",
      "    - num1 (int): The first integer operand for addition.\n",
      "    - num2 (int): The second integer operand for addition.\n",
      "    \n",
      "    Returns:\n",
      "    int: The sum of num1 and num2.\n",
      "    \n",
      "    Example:\n",
      "    >>> add_numbers(3, 5)\n",
      "    8\n",
      "    >>> add_numbers(-1, 10)\n",
      "    9\n",
      "    >>> add_numbers(0, 0)\n",
      "    0\n",
      "    \n",
      "    Raises:\n",
      "    - TypeError: If either num1 or num2 is not an integer.\n",
      "    \n",
      "    This function takes two integers as input, adds them together, and returns the result.\n",
      "\n"
     ]
    }
   ],
   "source": [
    "help(add_numbers)"
   ]
  },
  {
   "cell_type": "markdown",
   "metadata": {},
   "source": [
    "---"
   ]
  },
  {
   "cell_type": "code",
   "execution_count": 12,
   "metadata": {},
   "outputs": [],
   "source": [
    "class Student:\n",
    "    \"\"\"\n",
    "    A class representing a student.\n",
    "\n",
    "    Attributes:\n",
    "    - name (str): The first name of the student.\n",
    "    - last_name (str): The last name of the student.\n",
    "    - age (int): The age of the student.\n",
    "\n",
    "    Example:\n",
    "    >>> student1 = Student(\"John\", \"Doe\", 20)\n",
    "    >>> print(student1.name)\n",
    "    John\n",
    "    >>> print(student1.last_name)\n",
    "    Doe\n",
    "    >>> print(student1.age)\n",
    "    20\n",
    "\n",
    "    Usage:\n",
    "    To create a new student instance:\n",
    "    >>> student2 = Student(\"Alice\", \"Smith\", 22)\n",
    "    \"\"\"\n",
    "\n",
    "    def __init__(self, name, last_name, age):\n",
    "        \"\"\"\n",
    "        Initializes a new instance of the Student class.\n",
    "\n",
    "        Parameters:\n",
    "        - name (str): The first name of the student.\n",
    "        - last_name (str): The last name of the student.\n",
    "        - age (int): The age of the student.\n",
    "        \"\"\"\n",
    "        self.name = name\n",
    "        self.last_name = last_name\n",
    "        self.age = age"
   ]
  },
  {
   "cell_type": "code",
   "execution_count": 14,
   "metadata": {},
   "outputs": [],
   "source": [
    "s1: Student = Student(\"John\", \"Doe\", \"0\")"
   ]
  },
  {
   "cell_type": "code",
   "execution_count": 16,
   "metadata": {},
   "outputs": [
    {
     "name": "stdout",
     "output_type": "stream",
     "text": [
      "\n",
      "    A class representing a student.\n",
      "\n",
      "    Attributes:\n",
      "    - name (str): The first name of the student.\n",
      "    - last_name (str): The last name of the student.\n",
      "    - age (int): The age of the student.\n",
      "\n",
      "    Example:\n",
      "    >>> student1 = Student(\"John\", \"Doe\", 20)\n",
      "    >>> print(student1.name)\n",
      "    John\n",
      "    >>> print(student1.last_name)\n",
      "    Doe\n",
      "    >>> print(student1.age)\n",
      "    20\n",
      "\n",
      "    Usage:\n",
      "    To create a new student instance:\n",
      "    >>> student2 = Student(\"Alice\", \"Smith\", 22)\n",
      "    \n"
     ]
    }
   ],
   "source": [
    "print(Student.__doc__)"
   ]
  },
  {
   "cell_type": "code",
   "execution_count": 17,
   "metadata": {},
   "outputs": [
    {
     "name": "stdout",
     "output_type": "stream",
     "text": [
      "\n",
      "        Initializes a new instance of the Student class.\n",
      "\n",
      "        Parameters:\n",
      "        - name (str): The first name of the student.\n",
      "        - last_name (str): The last name of the student.\n",
      "        - age (int): The age of the student.\n",
      "        \n"
     ]
    }
   ],
   "source": [
    "print(Student.__init__.__doc__)"
   ]
  },
  {
   "cell_type": "code",
   "execution_count": 18,
   "metadata": {},
   "outputs": [
    {
     "name": "stdout",
     "output_type": "stream",
     "text": [
      "\u001b[0;31mInit signature:\u001b[0m \u001b[0mStudent\u001b[0m\u001b[0;34m(\u001b[0m\u001b[0mname\u001b[0m\u001b[0;34m,\u001b[0m \u001b[0mlast_name\u001b[0m\u001b[0;34m,\u001b[0m \u001b[0mage\u001b[0m\u001b[0;34m)\u001b[0m\u001b[0;34m\u001b[0m\u001b[0;34m\u001b[0m\u001b[0m\n",
      "\u001b[0;31mDocstring:\u001b[0m     \n",
      "A class representing a student.\n",
      "\n",
      "Attributes:\n",
      "- name (str): The first name of the student.\n",
      "- last_name (str): The last name of the student.\n",
      "- age (int): The age of the student.\n",
      "\n",
      "Example:\n",
      ">>> student1 = Student(\"John\", \"Doe\", 20)\n",
      ">>> print(student1.name)\n",
      "John\n",
      ">>> print(student1.last_name)\n",
      "Doe\n",
      ">>> print(student1.age)\n",
      "20\n",
      "\n",
      "Usage:\n",
      "To create a new student instance:\n",
      ">>> student2 = Student(\"Alice\", \"Smith\", 22)\n",
      "\u001b[0;31mInit docstring:\u001b[0m\n",
      "Initializes a new instance of the Student class.\n",
      "\n",
      "Parameters:\n",
      "- name (str): The first name of the student.\n",
      "- last_name (str): The last name of the student.\n",
      "- age (int): The age of the student.\n",
      "\u001b[0;31mType:\u001b[0m           type\n",
      "\u001b[0;31mSubclasses:\u001b[0m     "
     ]
    }
   ],
   "source": [
    "Student?"
   ]
  },
  {
   "cell_type": "code",
   "execution_count": 19,
   "metadata": {},
   "outputs": [
    {
     "name": "stdout",
     "output_type": "stream",
     "text": [
      "\u001b[0;31mSignature:\u001b[0m \u001b[0mStudent\u001b[0m\u001b[0;34m.\u001b[0m\u001b[0m__init__\u001b[0m\u001b[0;34m(\u001b[0m\u001b[0mself\u001b[0m\u001b[0;34m,\u001b[0m \u001b[0mname\u001b[0m\u001b[0;34m,\u001b[0m \u001b[0mlast_name\u001b[0m\u001b[0;34m,\u001b[0m \u001b[0mage\u001b[0m\u001b[0;34m)\u001b[0m\u001b[0;34m\u001b[0m\u001b[0;34m\u001b[0m\u001b[0m\n",
      "\u001b[0;31mDocstring:\u001b[0m\n",
      "Initializes a new instance of the Student class.\n",
      "\n",
      "Parameters:\n",
      "- name (str): The first name of the student.\n",
      "- last_name (str): The last name of the student.\n",
      "- age (int): The age of the student.\n",
      "\u001b[0;31mFile:\u001b[0m      /tmp/ipykernel_28376/1726532275.py\n",
      "\u001b[0;31mType:\u001b[0m      function"
     ]
    }
   ],
   "source": [
    "Student.__init__?"
   ]
  },
  {
   "cell_type": "code",
   "execution_count": 22,
   "metadata": {},
   "outputs": [
    {
     "name": "stdout",
     "output_type": "stream",
     "text": [
      "Help on class Student in module __main__:\n",
      "\n",
      "class Student(builtins.object)\n",
      " |  Student(name, last_name, age)\n",
      " |  \n",
      " |  A class representing a student.\n",
      " |  \n",
      " |  Attributes:\n",
      " |  - name (str): The first name of the student.\n",
      " |  - last_name (str): The last name of the student.\n",
      " |  - age (int): The age of the student.\n",
      " |  \n",
      " |  Example:\n",
      " |  >>> student1 = Student(\"John\", \"Doe\", 20)\n",
      " |  >>> print(student1.name)\n",
      " |  John\n",
      " |  >>> print(student1.last_name)\n",
      " |  Doe\n",
      " |  >>> print(student1.age)\n",
      " |  20\n",
      " |  \n",
      " |  Usage:\n",
      " |  To create a new student instance:\n",
      " |  >>> student2 = Student(\"Alice\", \"Smith\", 22)\n",
      " |  \n",
      " |  Methods defined here:\n",
      " |  \n",
      " |  __init__(self, name, last_name, age)\n",
      " |      Initializes a new instance of the Student class.\n",
      " |      \n",
      " |      Parameters:\n",
      " |      - name (str): The first name of the student.\n",
      " |      - last_name (str): The last name of the student.\n",
      " |      - age (int): The age of the student.\n",
      " |  \n",
      " |  ----------------------------------------------------------------------\n",
      " |  Data descriptors defined here:\n",
      " |  \n",
      " |  __dict__\n",
      " |      dictionary for instance variables (if defined)\n",
      " |  \n",
      " |  __weakref__\n",
      " |      list of weak references to the object (if defined)\n",
      "\n"
     ]
    }
   ],
   "source": [
    "help(Student)"
   ]
  },
  {
   "cell_type": "code",
   "execution_count": 23,
   "metadata": {},
   "outputs": [
    {
     "name": "stdout",
     "output_type": "stream",
     "text": [
      "Help on function __init__ in module __main__:\n",
      "\n",
      "__init__(self, name, last_name, age)\n",
      "    Initializes a new instance of the Student class.\n",
      "    \n",
      "    Parameters:\n",
      "    - name (str): The first name of the student.\n",
      "    - last_name (str): The last name of the student.\n",
      "    - age (int): The age of the student.\n",
      "\n"
     ]
    }
   ],
   "source": [
    "help(Student.__init__)"
   ]
  }
 ],
 "metadata": {
  "kernelspec": {
   "display_name": "py311",
   "language": "python",
   "name": "python3"
  },
  "language_info": {
   "codemirror_mode": {
    "name": "ipython",
    "version": 3
   },
   "file_extension": ".py",
   "mimetype": "text/x-python",
   "name": "python",
   "nbconvert_exporter": "python",
   "pygments_lexer": "ipython3",
   "version": "3.11.5"
  },
  "orig_nbformat": 4
 },
 "nbformat": 4,
 "nbformat_minor": 2
}
