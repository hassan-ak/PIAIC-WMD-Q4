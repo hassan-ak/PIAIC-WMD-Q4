{
 "cells": [
  {
   "cell_type": "markdown",
   "metadata": {},
   "source": [
    "# Making an API request"
   ]
  },
  {
   "cell_type": "code",
   "execution_count": 1,
   "metadata": {},
   "outputs": [],
   "source": [
    "from openai import OpenAI\n",
    "from dotenv import load_dotenv, find_dotenv\n",
    "import os\n",
    "\n",
    "# print(find_dotenv())\n",
    "\n",
    "# print(load_dotenv(find_dotenv()))\n",
    "\n",
    "_: bool = load_dotenv(find_dotenv())  # read local .env file\n",
    "\n",
    "client: OpenAI = OpenAI()\n",
    "\n",
    "# print(client)"
   ]
  },
  {
   "cell_type": "code",
   "execution_count": 2,
   "metadata": {},
   "outputs": [],
   "source": [
    "from openai.types.chat.chat_completion import ChatCompletion\n",
    "\n",
    "\n",
    "def chat_completion() -> str:\n",
    "    completion: ChatCompletion = client.chat.completions.create(\n",
    "        model=\"gpt-3.5-turbo-1106\",\n",
    "        messages=[\n",
    "            {\n",
    "                \"role\": \"system\",\n",
    "                \"content\": \"You are a poetic assistant, skilled in explaining complex programming concepts with creative flair.\",\n",
    "            },\n",
    "            {\n",
    "                \"role\": \"user\",\n",
    "                \"content\": \"Compose a poem that explains the concept of recursion in programming.\",\n",
    "            },\n",
    "        ],\n",
    "    )\n",
    "    # print(\"\\n***\\n***\\n***\\n\")\n",
    "    # print(completion)\n",
    "    # print(\"\\n***\\n***\\n***\\n\")\n",
    "    # print(completion.choices)\n",
    "    # print(\"\\n***\\n***\\n***\\n\")\n",
    "    # print(completion.choices[0])\n",
    "    # print(\"\\n***\\n***\\n***\\n\")\n",
    "    # print(completion.choices[0].message)\n",
    "    # print(\"\\n***\\n***\\n***\\n\")\n",
    "    # print(completion.choices[0].message.content)\n",
    "\n",
    "    return completion.choices[0].message.content\n",
    "\n",
    "\n",
    "response: str = chat_completion()"
   ]
  },
  {
   "cell_type": "code",
   "execution_count": 3,
   "metadata": {},
   "outputs": [
    {
     "name": "stdout",
     "output_type": "stream",
     "text": [
      "In the land of code, where logic reigns,\n",
      "There dwells a concept with recursive chains.\n",
      "Like a mirror reflecting its own reflection,\n",
      "Recursion in programming defies dejection.\n",
      "\n",
      "A function calling itself, again and again,\n",
      "Like a lyrical refrain, an endless, looping train.\n",
      "It dives deep into the problem's core,\n",
      "And solves in a way we've not seen before.\n",
      "\n",
      "Like a fractal pattern, endlessly repeating,\n",
      "Recursion unwinds, its power completing.\n",
      "With base cases to stop the infinite loop,\n",
      "It climbs up the stack, escaping the troupe.\n",
      "\n",
      "A task split into smaller parts, discrete,\n",
      "Recursion dances, elegant and neat.\n",
      "It peels the layers, one by one,\n",
      "Until the solution glows like the sun.\n",
      "\n",
      "Oh, recursion, thy beauty does abound,\n",
      "Infinite complexity in simplicity found.\n",
      "A pattern woven in the tapestry of code,\n",
      "Forever elegant, forever bestowed.\n"
     ]
    }
   ],
   "source": [
    "print(response)"
   ]
  }
 ],
 "metadata": {
  "kernelspec": {
   "display_name": "py311",
   "language": "python",
   "name": "python3"
  },
  "language_info": {
   "codemirror_mode": {
    "name": "ipython",
    "version": 3
   },
   "file_extension": ".py",
   "mimetype": "text/x-python",
   "name": "python",
   "nbconvert_exporter": "python",
   "pygments_lexer": "ipython3",
   "version": "3.11.5"
  },
  "orig_nbformat": 4
 },
 "nbformat": 4,
 "nbformat_minor": 2
}
