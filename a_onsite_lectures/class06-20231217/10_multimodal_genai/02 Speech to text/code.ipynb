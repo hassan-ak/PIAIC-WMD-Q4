{
 "cells": [
  {
   "cell_type": "markdown",
   "metadata": {},
   "source": [
    "## Introduction\n",
    "The Audio API provides two speech to text endpoints, transcriptions and translations, based on our state-of-the-art open source large-v2 Whisper model. They can be used to:\n",
    "\n",
    "Transcribe audio into whatever language the audio is in.\n",
    "* Translate and transcribe the audio into english.\n",
    "* File uploads are currently limited to 25 MB and the following input file types are supported: mp3, mp4, mpeg, mpga, m4a, wav, and webm."
   ]
  },
  {
   "cell_type": "markdown",
   "metadata": {},
   "source": [
    "## Transcriptions\n",
    "The transcriptions API takes as input the audio file you want to transcribe and the desired output file format for the transcription of the audio. We currently support multiple input and output file formats.\n",
    "\n",
    "By default, the response type will be json with the raw text included.\n",
    "\n",
    "```\n",
    "{\n",
    "  \"text\": \"Imagine the wildest idea that you've ever had, and you're curious about how it might scale to something that's a 100, a 1,000 times bigger.\n",
    "....\n",
    "}\n",
    "```"
   ]
  },
  {
   "cell_type": "code",
   "execution_count": 5,
   "metadata": {},
   "outputs": [],
   "source": [
    "from openai import OpenAI\n",
    "client = OpenAI()\n",
    "\n",
    "audio_file = open(\"urdu.mp3\", \"rb\")\n",
    "transcript = client.audio.transcriptions.create(\n",
    "  model=\"whisper-1\", \n",
    "  file=audio_file, \n",
    "  response_format=\"text\"\n",
    ")"
   ]
  },
  {
   "cell_type": "code",
   "execution_count": 6,
   "metadata": {},
   "outputs": [
    {
     "data": {
      "text/plain": [
       "'میرا نام محمد قاسم ہے\\n'"
      ]
     },
     "execution_count": 6,
     "metadata": {},
     "output_type": "execute_result"
    }
   ],
   "source": [
    "transcript"
   ]
  },
  {
   "cell_type": "markdown",
   "metadata": {},
   "source": [
    "## Translations\n",
    "The translations API takes as input the audio file in any of the supported languages and transcribes, if necessary, the audio into English. This differs from our /Transcriptions endpoint since the output is not in the original input language and is instead translated to English text."
   ]
  },
  {
   "cell_type": "code",
   "execution_count": 11,
   "metadata": {},
   "outputs": [
    {
     "data": {
      "text/plain": [
       "Translation(text='My name is Mohammad Qasim.')"
      ]
     },
     "execution_count": 11,
     "metadata": {},
     "output_type": "execute_result"
    }
   ],
   "source": [
    "from openai import OpenAI\n",
    "client = OpenAI()\n",
    "\n",
    "audio_file= open(\"urdu.mp3\", \"rb\")\n",
    "transcript = client.audio.translations.create(\n",
    "  model=\"whisper-1\", \n",
    "  file=audio_file\n",
    ")\n",
    "\n",
    "transcript"
   ]
  },
  {
   "cell_type": "markdown",
   "metadata": {},
   "source": [
    "#### We only support translation into english at this time.\n",
    "\n",
    "## Supported languages\n",
    "We currently support the following languages through both the transcriptions and translations endpoint:\n",
    "\n",
    "Afrikaans, Arabic, Armenian, Azerbaijani, Belarusian, Bosnian, Bulgarian, Catalan, Chinese, Croatian, Czech, Danish, Dutch, English, Estonian, Finnish, French, Galician, German, Greek, Hebrew, Hindi, Hungarian, Icelandic, Indonesian, Italian, Japanese, Kannada, Kazakh, Korean, Latvian, Lithuanian, Macedonian, Malay, Marathi, Maori, Nepali, Norwegian, Persian, Polish, Portuguese, Romanian, Russian, Serbian, Slovak, Slovenian, Spanish, Swahili, Swedish, Tagalog, Tamil, Thai, Turkish, Ukrainian, Urdu, Vietnamese, and Welsh.\n",
    "\n",
    "While the underlying model was trained on 98 languages, we only list the languages that exceeded <50% word error rate (WER) which is an industry standard benchmark for speech to text model accuracy. The model will return results for languages not listed above but the quality will be low."
   ]
  },
  {
   "cell_type": "code",
   "execution_count": 1,
   "metadata": {},
   "outputs": [
    {
     "name": "stdout",
     "output_type": "stream",
     "text": [
      "Collecting pydub\n",
      "  Downloading pydub-0.25.1-py2.py3-none-any.whl (32 kB)\n",
      "Collecting ffprobe\n",
      "  Downloading ffprobe-0.5.zip (3.5 kB)\n",
      "  Preparing metadata (setup.py) ... \u001b[?25ldone\n",
      "\u001b[?25hBuilding wheels for collected packages: ffprobe\n",
      "  Building wheel for ffprobe (setup.py) ... \u001b[?25ldone\n",
      "\u001b[?25h  Created wheel for ffprobe: filename=ffprobe-0.5-py3-none-any.whl size=3406 sha256=7dc97df9e45571e1768dfe94433416fbcc50e7f3e0e8e1594b0f3e279d35ad85\n",
      "  Stored in directory: /home/hassan/.cache/pip/wheels/2c/cb/c1/10daee0c3fad04c9d900006cd0f24bdd47afb74a5c1c085795\n",
      "Successfully built ffprobe\n",
      "Installing collected packages: pydub, ffprobe\n",
      "Successfully installed ffprobe-0.5 pydub-0.25.1\n"
     ]
    }
   ],
   "source": [
    "!pip install pydub ffprobe --upgrade --force"
   ]
  },
  {
   "cell_type": "code",
   "execution_count": 2,
   "metadata": {},
   "outputs": [
    {
     "name": "stdout",
     "output_type": "stream",
     "text": [
      "/bin/bash: line 1: brew: command not found\n",
      "/bin/bash: line 1: ffprobe: command not found\n"
     ]
    }
   ],
   "source": [
    "!brew install ffmpeg\n",
    "!ffprobe -version"
   ]
  },
  {
   "cell_type": "markdown",
   "metadata": {},
   "source": [
    "https://docs.tdarr.io/blog/how-to-install-ffprobe-and-gather-data-from-a-media-file"
   ]
  },
  {
   "cell_type": "code",
   "execution_count": 4,
   "metadata": {},
   "outputs": [
    {
     "data": {
      "text/html": [
       "\n",
       "                    <audio controls>\n",
       "                        <source src=\"data:audio/mpeg;base64,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\" type=\"audio/mpeg\"/>\n",
       "                        Your browser does not support the audio element.\n",
       "                    </audio>\n",
       "                  "
      ],
      "text/plain": [
       "<pydub.audio_segment.AudioSegment at 0x110f4c2d0>"
      ]
     },
     "execution_count": 4,
     "metadata": {},
     "output_type": "execute_result"
    }
   ],
   "source": [
    "from pydub import AudioSegment\n",
    "\n",
    "song = AudioSegment.from_mp3(\"/Users/m.qasim/Desktop/PIAIC/learn-generative-ai/16_multimodal_genai/02 Speech to text/urdu.mp3\")\n",
    "\n",
    "# PyDub handles time in milliseconds\n",
    "ten_minutes = 10 * 60 * 1000\n",
    "\n",
    "first_10_minutes = song[:ten_minutes]\n",
    "\n",
    "first_10_minutes.export(\"chuck_10_25mb.mp3\", format=\"mp3\")\n",
    "first_10_minutes"
   ]
  },
  {
   "cell_type": "markdown",
   "metadata": {},
   "source": [
    "## Prompting\n",
    "You can use a prompt to improve the quality of the transcripts generated by the Whisper API. The model will try to match the style of the prompt, so it will be more likely to use capitalization and punctuation if the prompt does too. However, the current prompting system is much more limited than our other language models and only provides limited control over the generated audio. Here are some examples of how prompting can help in different scenarios:\n",
    "\n",
    "1. Prompts can be very helpful for correcting specific words or acronyms that the model often misrecognizes in the audio. For example, the following prompt improves the transcription of the words DALL·E and GPT-3, which were previously written as \"GDP 3\" and \"DALI\": \"The transcript is about OpenAI which makes technology like DALL·E, GPT-3, and ChatGPT with the hope of one day building an AGI system that benefits all of humanity\"\n",
    "2. To preserve the context of a file that was split into segments, you can prompt the model with the transcript of the preceding segment. This will make the transcript more accurate, as the model will use the relevant information from the previous audio. The model will only consider the final 224 tokens of the prompt and ignore anything earlier. For multilingual inputs, Whisper uses a custom tokenizer. For English only inputs, it uses the standard GPT-2 tokenizer which are both accessible through the open source Whisper Python package.\n",
    "3. Sometimes the model might skip punctuation in the transcript. You can avoid this by using a simple prompt that includes punctuation: \"Hello, welcome to my lecture.\"\n",
    "The model may also leave out common filler words in the audio. If you want to keep the filler words in your transcript, you can use a prompt that contains them: \"Umm, let me think like, hmm... Okay, here's what I'm, like, thinking.\"\n",
    "Some languages can be written in different ways, such as simplified or traditional Chinese. The model might not always use the writing style that you want for your transcript by default. You can improve this by using a prompt in your preferred writing style.\n",
    "### Improving reliability\n",
    "As we explored in the prompting section, one of the most common challenges faced when using Whisper is the model often does not recognize uncommon words or acronyms. To address this, we have highlighted different techniques which improve the reliability of Whisper in these cases:\n",
    "#### Using the prompt parameter\n",
    "The first method involves using the optional prompt parameter to pass a dictionary of the correct spellings.\n",
    "\n",
    "Since it wasn't trained using instruction-following techniques, Whisper operates more like a base GPT model. It's important to keep in mind that Whisper only considers the first 244 tokens of the prompt.\n",
    "```\n",
    "transcribe(filepath, prompt=\"ZyntriQix, Digique Plus, CynapseFive, VortiQore V8, EchoNix Array, OrbitalLink Seven, DigiFractal Matrix, PULSE, RAPT, B.R.I.C.K., Q.U.A.R.T.Z., F.L.I.N.T.\")\n",
    "```\n",
    "While it will increase reliability, this technique is limited to only 244 characters so your list of SKUs would need to be relatively small in order for this to be a scalable solution."
   ]
  },
  {
   "cell_type": "markdown",
   "metadata": {},
   "source": [
    "# Post-processing with GPT-4\n",
    "The second method involves a post-processing step using GPT-4 or GPT-3.5-Turbo.\n",
    "\n",
    "We start by providing instructions for GPT-4 through the system_prompt variable. Similar to what we did with the prompt parameter earlier, we can define our company and product names."
   ]
  },
  {
   "cell_type": "code",
   "execution_count": 16,
   "metadata": {},
   "outputs": [
    {
     "data": {
      "text/plain": [
       "Translation(text='My name is Mohammad Qasim.')"
      ]
     },
     "execution_count": 16,
     "metadata": {},
     "output_type": "execute_result"
    }
   ],
   "source": [
    "transcript.text\n"
   ]
  },
  {
   "cell_type": "code",
   "execution_count": 20,
   "metadata": {},
   "outputs": [
    {
     "data": {
      "text/plain": [
       "ChatCompletion(id='chatcmpl-8NxhhFuQoViKmvknPrEl10bcQHGNF', choices=[Choice(finish_reason='stop', index=0, message=ChatCompletionMessage(content='My name is Mohammad Qasim.', role='assistant', function_call=None, tool_calls=None))], created=1700721737, model='gpt-3.5-turbo-1106', object='chat.completion', system_fingerprint='fp_eeff13170a', usage=CompletionUsage(completion_tokens=8, prompt_tokens=145, total_tokens=153))"
      ]
     },
     "metadata": {},
     "output_type": "display_data"
    },
    {
     "data": {
      "text/plain": [
       "'My name is Mohammad Qasim.'"
      ]
     },
     "execution_count": 20,
     "metadata": {},
     "output_type": "execute_result"
    }
   ],
   "source": [
    "from openai import OpenAI\n",
    "\n",
    "system_prompt = \"You are a helpful assistant for the company ZyntriQix. Your task is to correct any spelling discrepancies in the transcribed text. Make sure that the names of the following products are spelled correctly: ZyntriQix, Digique Plus, CynapseFive, VortiQore V8, EchoNix Array, OrbitalLink Seven, DigiFractal Matrix, PULSE, RAPT, B.R.I.C.K., Q.U.A.R.T.Z., F.L.I.N.T. Only add necessary punctuation such as periods, commas, and capitalization, and use only the context provided.\"\n",
    "fake_company_filepath : str = \"./urdu.mp3\"\n",
    "\n",
    "client = OpenAI()\n",
    "\n",
    "\n",
    "def generate_corrected_transcript(temperature, system_prompt, audio_file):\n",
    "    response = client.chat.completions.create(\n",
    "        model=\"gpt-3.5-turbo-1106\",\n",
    "        temperature=temperature,\n",
    "        messages=[\n",
    "            {\n",
    "                \"role\": \"system\",\n",
    "                \"content\": system_prompt\n",
    "            },\n",
    "            {\n",
    "                \"role\": \"user\",\n",
    "                \"content\": audio_file.text\n",
    "            }\n",
    "        ]\n",
    "    )\n",
    "    display(response)\n",
    "    return response.choices[0].message.content\n",
    "\n",
    "corrected_text = generate_corrected_transcript(0, system_prompt, transcript)\n",
    "corrected_text"
   ]
  },
  {
   "cell_type": "markdown",
   "metadata": {},
   "source": []
  }
 ],
 "metadata": {
  "kernelspec": {
   "display_name": "py311",
   "language": "python",
   "name": "python3"
  },
  "language_info": {
   "codemirror_mode": {
    "name": "ipython",
    "version": 3
   },
   "file_extension": ".py",
   "mimetype": "text/x-python",
   "name": "python",
   "nbconvert_exporter": "python",
   "pygments_lexer": "ipython3",
   "version": "3.11.5"
  },
  "orig_nbformat": 4
 },
 "nbformat": 4,
 "nbformat_minor": 2
}
